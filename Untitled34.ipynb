{
 "cells": [
  {
   "cell_type": "code",
   "execution_count": 2,
   "id": "274b2749-460a-4643-bb5d-09292fb16ccb",
   "metadata": {},
   "outputs": [
    {
     "data": {
      "text/plain": [
       "8"
      ]
     },
     "execution_count": 2,
     "metadata": {},
     "output_type": "execute_result"
    }
   ],
   "source": [
    "s1 = \"pwskills\"\n",
    "len(s1)\n"
   ]
  },
  {
   "cell_type": "code",
   "execution_count": 3,
   "id": "3ea1fc6b-efaa-4e3b-b31a-ffd2ea602770",
   "metadata": {},
   "outputs": [
    {
     "data": {
      "text/plain": [
       "'detimil etavirp secivres noitacude grisym'"
      ]
     },
     "execution_count": 3,
     "metadata": {},
     "output_type": "execute_result"
    }
   ],
   "source": [
    "s = \"mysirg education services private limited\"\n",
    "s[::-1]"
   ]
  },
  {
   "cell_type": "code",
   "execution_count": null,
   "id": "107de811-5b27-43de-9859-ad1f9e2997bd",
   "metadata": {},
   "outputs": [],
   "source": [
    "s1 = \"Malayalam\"\n",
    "ans = is palidrome(s1)\n",
    "if ans:\n",
    "    print (\"yes\")\n",
    "else :\n",
    "    print (\"no\")"
   ]
  },
  {
   "cell_type": "code",
   "execution_count": null,
   "id": "aa6a68aa-d4f4-4a06-864b-e86b9fd4c164",
   "metadata": {},
   "outputs": [],
   "source": [
    "l1 = [\"mysirg\",\"education\",\"sirvices\",\"private\",\"limited\"]\n",
    "str object . join (l1)"
   ]
  },
  {
   "cell_type": "code",
   "execution_count": null,
   "id": "65f5702e-c6ce-4c8c-84db-edee8c5b4a56",
   "metadata": {},
   "outputs": [],
   "source": []
  }
 ],
 "metadata": {
  "kernelspec": {
   "display_name": "Python 3 (ipykernel)",
   "language": "python",
   "name": "python3"
  },
  "language_info": {
   "codemirror_mode": {
    "name": "ipython",
    "version": 3
   },
   "file_extension": ".py",
   "mimetype": "text/x-python",
   "name": "python",
   "nbconvert_exporter": "python",
   "pygments_lexer": "ipython3",
   "version": "3.10.8"
  }
 },
 "nbformat": 4,
 "nbformat_minor": 5
}
